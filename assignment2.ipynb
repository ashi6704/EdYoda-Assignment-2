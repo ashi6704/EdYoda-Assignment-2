{
 "cells": [
  {
   "cell_type": "markdown",
   "id": "eca9da82",
   "metadata": {},
   "source": [
    "#                    ASSIGNMENT-2\n",
    "\n",
    "\n",
    "## FUN WITH LIST AND TUPLES"
   ]
  },
  {
   "cell_type": "code",
   "execution_count": 3,
   "id": "8b2be8df",
   "metadata": {},
   "outputs": [
    {
     "name": "stdout",
     "output_type": "stream",
     "text": [
      "[(2, 1), (1, 2), (2, 3), (4, 4), (2, 5)]\n"
     ]
    }
   ],
   "source": [
    "L = [(2,5),(1,2),(4,4),(2,3),(2,1)]\n",
    "\n",
    "for i in range(len(L)):\n",
    "    for j in range(len(L)):\n",
    "        if L[i][1] < L[j][1]:\n",
    "            L[i],L[j] = L[j],L[i]\n",
    "print(L)\n"
   ]
  },
  {
   "cell_type": "code",
   "execution_count": 4,
   "id": "8cde1bb3",
   "metadata": {},
   "outputs": [
    {
     "name": "stdout",
     "output_type": "stream",
     "text": [
      "[(2, 1), (1, 2), (2, 3), (4, 4), (2, 5)]\n"
     ]
    }
   ],
   "source": [
    "L = [(2,5),(1,2),(4,4),(2,3),(2,1)]\n",
    "\n",
    "L.sort(key = lambda x: x[-1])\n",
    "print(L)\n"
   ]
  },
  {
   "cell_type": "code",
   "execution_count": null,
   "id": "0039e486",
   "metadata": {},
   "outputs": [],
   "source": []
  }
 ],
 "metadata": {
  "kernelspec": {
   "display_name": "Python 3 (ipykernel)",
   "language": "python",
   "name": "python3"
  },
  "language_info": {
   "codemirror_mode": {
    "name": "ipython",
    "version": 3
   },
   "file_extension": ".py",
   "mimetype": "text/x-python",
   "name": "python",
   "nbconvert_exporter": "python",
   "pygments_lexer": "ipython3",
   "version": "3.10.5"
  }
 },
 "nbformat": 4,
 "nbformat_minor": 5
}
